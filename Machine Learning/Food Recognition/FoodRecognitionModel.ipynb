{
 "cells": [
  {
   "cell_type": "code",
   "execution_count": 6,
   "metadata": {},
   "outputs": [],
   "source": [
    "import tensorflow as tf\n",
    "import os\n",
    "import glob\n",
    "from sklearn.model_selection import train_test_split\n",
    "from tensorflow.keras.applications import EfficientNetV2B2\n",
    "from tensorflow.keras.layers import GlobalAveragePooling2D, Dense, Dropout, Input\n",
    "from tensorflow.keras.models import Model\n",
    "from tensorflow.keras.optimizers import Adam\n",
    "from tensorflow.keras.callbacks import Callback"
   ]
  },
  {
   "cell_type": "code",
   "execution_count": 3,
   "metadata": {},
   "outputs": [],
   "source": [
    "physical_devices = tf.config.list_physical_devices('GPU')\n",
    "if len(physical_devices) == 0:\n",
    "    raise RuntimeError(\"GPU tidak ditemukan.\")"
   ]
  },
  {
   "cell_type": "code",
   "execution_count": 4,
   "metadata": {},
   "outputs": [],
   "source": [
    "IMG_SIZE = 299\n",
    "BATCH_SIZE = 32"
   ]
  },
  {
   "cell_type": "code",
   "execution_count": 5,
   "metadata": {},
   "outputs": [],
   "source": [
    "image_paths = glob.glob('Data/food-101/images/*/*.jpg')\n",
    "labels = [os.path.split(os.path.split(path)[0])[1] for path in image_paths]\n",
    "unique_labels = sorted(set(labels))\n",
    "label_to_index = {label: index for index, label in enumerate(unique_labels)}\n",
    "labels = [label_to_index[label] for label in labels]\n",
    "\n",
    "def load_and_preprocess(path, label):\n",
    "    image = tf.io.read_file(path)\n",
    "    image = tf.image.decode_jpeg(image, channels=3)\n",
    "    image = tf.image.resize(image, [IMG_SIZE, IMG_SIZE])\n",
    "    return image, label\n",
    "\n",
    "train_paths, test_paths, train_labels, test_labels = train_test_split(image_paths, labels, test_size=0.2, random_state=42)\n",
    "train_data = tf.data.Dataset.from_tensor_slices((train_paths, train_labels)).map(load_and_preprocess).batch(BATCH_SIZE)\n",
    "test_data = tf.data.Dataset.from_tensor_slices((test_paths, test_labels)).map(load_and_preprocess).batch(BATCH_SIZE)"
   ]
  },
  {
   "cell_type": "code",
   "execution_count": 7,
   "metadata": {},
   "outputs": [
    {
     "name": "stdout",
     "output_type": "stream",
     "text": [
      "Downloading data from https://storage.googleapis.com/tensorflow/keras-applications/efficientnet_v2/efficientnetv2-b2_notop.h5\n",
      "35839040/35839040 [==============================] - 56s 2us/step\n"
     ]
    }
   ],
   "source": [
    "input = Input(shape=(IMG_SIZE, IMG_SIZE, 3))\n",
    "base_model = EfficientNetV2B2(include_top=False, weights='imagenet', input_shape=(IMG_SIZE, IMG_SIZE, 3))\n",
    "base_model.trainable = False\n",
    "\n",
    "x = base_model(input)\n",
    "\n",
    "x = GlobalAveragePooling2D()(x)\n",
    "\n",
    "predictions = Dense(101, activation='softmax')(x)\n",
    "\n",
    "model = Model(inputs=input, outputs=predictions)\n",
    "\n",
    "model.compile(optimizer=Adam(), loss='sparse_categorical_crossentropy', metrics=['accuracy'])"
   ]
  },
  {
   "cell_type": "code",
   "execution_count": 8,
   "metadata": {},
   "outputs": [
    {
     "name": "stdout",
     "output_type": "stream",
     "text": [
      "Model: \"model\"\n",
      "_________________________________________________________________\n",
      " Layer (type)                Output Shape              Param #   \n",
      "=================================================================\n",
      " input_1 (InputLayer)        [(None, 299, 299, 3)]     0         \n",
      "                                                                 \n",
      " efficientnetv2-b2 (Function  (None, 10, 10, 1408)     8769374   \n",
      " al)                                                             \n",
      "                                                                 \n",
      " global_average_pooling2d (G  (None, 1408)             0         \n",
      " lobalAveragePooling2D)                                          \n",
      "                                                                 \n",
      " dense (Dense)               (None, 101)               142309    \n",
      "                                                                 \n",
      "=================================================================\n",
      "Total params: 8,911,683\n",
      "Trainable params: 142,309\n",
      "Non-trainable params: 8,769,374\n",
      "_________________________________________________________________\n"
     ]
    }
   ],
   "source": [
    "model.summary()"
   ]
  },
  {
   "cell_type": "code",
   "execution_count": 9,
   "metadata": {},
   "outputs": [
    {
     "name": "stdout",
     "output_type": "stream",
     "text": [
      "Epoch 1/4\n",
      "2525/2525 [==============================] - 620s 235ms/step - loss: 1.7080 - accuracy: 0.5787 - val_loss: 1.2563 - val_accuracy: 0.6765\n",
      "Epoch 2/4\n",
      "2525/2525 [==============================] - 589s 233ms/step - loss: 1.2324 - accuracy: 0.6756 - val_loss: 1.1446 - val_accuracy: 0.7021\n",
      "Epoch 3/4\n",
      "2525/2525 [==============================] - 591s 234ms/step - loss: 1.1155 - accuracy: 0.7056 - val_loss: 1.0948 - val_accuracy: 0.7168\n",
      "Epoch 4/4\n",
      "2525/2525 [==============================] - 594s 235ms/step - loss: 1.0419 - accuracy: 0.7229 - val_loss: 1.0638 - val_accuracy: 0.7246\n"
     ]
    }
   ],
   "source": [
    "history = model.fit(train_data, epochs=4, validation_data=test_data)"
   ]
  },
  {
   "cell_type": "code",
   "execution_count": 11,
   "metadata": {},
   "outputs": [],
   "source": [
    "base_model.trainable = True\n",
    "for layer in base_model.layers[:-30]:\n",
    "    layer.trainable = False\n",
    "\n",
    "model.compile(optimizer=Adam(), loss='sparse_categorical_crossentropy', metrics=['accuracy'])\n",
    "\n",
    "class MyCallback(Callback):\n",
    "    def on_epoch_end(self, epoch, logs=None):\n",
    "        if logs is None:\n",
    "            logs = {}\n",
    "        if logs.get('val_accuracy') > 0.80:\n",
    "            print(\"\\nAkurasi telah mencapai 80%, menghentikan pelatihan.\")\n",
    "            self.model.stop_training = True\n",
    "\n",
    "callback = MyCallback()"
   ]
  },
  {
   "cell_type": "code",
   "execution_count": 12,
   "metadata": {},
   "outputs": [
    {
     "name": "stdout",
     "output_type": "stream",
     "text": [
      "Model: \"model\"\n",
      "_________________________________________________________________\n",
      " Layer (type)                Output Shape              Param #   \n",
      "=================================================================\n",
      " input_1 (InputLayer)        [(None, 299, 299, 3)]     0         \n",
      "                                                                 \n",
      " efficientnetv2-b2 (Function  (None, 10, 10, 1408)     8769374   \n",
      " al)                                                             \n",
      "                                                                 \n",
      " global_average_pooling2d (G  (None, 1408)             0         \n",
      " lobalAveragePooling2D)                                          \n",
      "                                                                 \n",
      " dense (Dense)               (None, 101)               142309    \n",
      "                                                                 \n",
      "=================================================================\n",
      "Total params: 8,911,683\n",
      "Trainable params: 1,509,709\n",
      "Non-trainable params: 7,401,974\n",
      "_________________________________________________________________\n"
     ]
    }
   ],
   "source": [
    "model.summary()"
   ]
  },
  {
   "cell_type": "code",
   "execution_count": 13,
   "metadata": {},
   "outputs": [
    {
     "name": "stdout",
     "output_type": "stream",
     "text": [
      "Epoch 1/4\n",
      "2525/2525 [==============================] - 670s 259ms/step - loss: 1.0103 - accuracy: 0.7284 - val_loss: 0.8724 - val_accuracy: 0.7679\n",
      "Epoch 2/4\n",
      "2525/2525 [==============================] - 668s 264ms/step - loss: 0.7613 - accuracy: 0.7913 - val_loss: 0.8274 - val_accuracy: 0.7810\n",
      "Epoch 3/4\n",
      "2525/2525 [==============================] - 682s 270ms/step - loss: 0.6236 - accuracy: 0.8281 - val_loss: 0.8216 - val_accuracy: 0.7851\n",
      "Epoch 4/4\n",
      "2525/2525 [==============================] - 681s 270ms/step - loss: 0.5136 - accuracy: 0.8547 - val_loss: 0.8236 - val_accuracy: 0.7881\n"
     ]
    }
   ],
   "source": [
    "history = model.fit(train_data, epochs=4, validation_data=test_data, callbacks=callback)"
   ]
  },
  {
   "cell_type": "code",
   "execution_count": 14,
   "metadata": {},
   "outputs": [],
   "source": [
    "model.save(\"model.h5\")"
   ]
  }
 ],
 "metadata": {
  "kernelspec": {
   "display_name": "tf210",
   "language": "python",
   "name": "python3"
  },
  "language_info": {
   "codemirror_mode": {
    "name": "ipython",
    "version": 3
   },
   "file_extension": ".py",
   "mimetype": "text/x-python",
   "name": "python",
   "nbconvert_exporter": "python",
   "pygments_lexer": "ipython3",
   "version": "3.7.16"
  },
  "orig_nbformat": 4
 },
 "nbformat": 4,
 "nbformat_minor": 2
}
