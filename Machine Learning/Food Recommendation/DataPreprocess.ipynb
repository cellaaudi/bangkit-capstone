{
 "cells": [
  {
   "cell_type": "code",
   "execution_count": 19,
   "metadata": {},
   "outputs": [],
   "source": [
    "import pandas as pd\n",
    "import tensorflow as tf\n",
    "from sklearn import preprocessing\n",
    "import numpy as np"
   ]
  },
  {
   "cell_type": "code",
   "execution_count": 20,
   "metadata": {},
   "outputs": [],
   "source": [
    "user_data = pd.read_csv('Data/UserDummyData.csv', delimiter=';')\n",
    "food_data = pd.read_csv('Data/FoodDummyData.csv', delimiter=';')"
   ]
  },
  {
   "cell_type": "code",
   "execution_count": 21,
   "metadata": {},
   "outputs": [],
   "source": [
    "user_data_check = user_data.iloc[:, 11:]\n",
    "count_non_zeros = user_data_check.astype(bool).sum(axis=1)\n",
    "\n",
    "user_data_dup = pd.DataFrame()\n",
    "columns_to_duplicate = user_data.columns[:11]\n",
    "\n",
    "for i, row in user_data.iterrows():\n",
    "    user_data_dup = user_data_dup.append([row[columns_to_duplicate]]*count_non_zeros[i])\n",
    "\n",
    "user_data_dup = user_data_dup.reset_index(drop=True)"
   ]
  },
  {
   "cell_type": "code",
   "execution_count": 22,
   "metadata": {},
   "outputs": [],
   "source": [
    "food_data_dup = pd.DataFrame()\n",
    "rating = []\n",
    "\n",
    "for i, row in user_data_check.iterrows():\n",
    "    for j, item in enumerate(row):\n",
    "        if item != 0:\n",
    "            column_name = user_data_check.columns[j]\n",
    "            rating.append(item)\n",
    "            food_row = food_data[food_data['Nama'] == column_name]\n",
    "            \n",
    "            if not food_row.empty:\n",
    "                food_data_dup = food_data_dup.append(food_row)\n",
    "\n",
    "food_data_dup = food_data_dup.reset_index(drop=True)"
   ]
  },
  {
   "cell_type": "code",
   "execution_count": 23,
   "metadata": {},
   "outputs": [],
   "source": [
    "train_user_data = user_data_dup.drop(columns=['ID', 'Nama'])\n",
    "train_food_data = food_data_dup.drop(columns=['ID', 'Nama'])"
   ]
  },
  {
   "cell_type": "code",
   "execution_count": 24,
   "metadata": {},
   "outputs": [],
   "source": [
    "x = train_food_data.values\n",
    "min_max_scaler = preprocessing.MinMaxScaler()\n",
    "x_scaled = min_max_scaler.fit_transform(x)\n",
    "train_food_data = pd.DataFrame(x_scaled, columns=train_food_data.columns)"
   ]
  },
  {
   "cell_type": "code",
   "execution_count": 25,
   "metadata": {},
   "outputs": [],
   "source": [
    "x = train_user_data.values\n",
    "min_max_scaler = preprocessing.MinMaxScaler()\n",
    "x_scaled = min_max_scaler.fit_transform(x)\n",
    "train_user_data = pd.DataFrame(x_scaled, columns=train_user_data.columns)"
   ]
  },
  {
   "cell_type": "code",
   "execution_count": 26,
   "metadata": {},
   "outputs": [],
   "source": [
    "train_user_data = np.array(train_user_data)\n",
    "train_food_data = np.array(train_food_data)"
   ]
  },
  {
   "cell_type": "code",
   "execution_count": 27,
   "metadata": {},
   "outputs": [],
   "source": [
    "rating = np.array(rating)"
   ]
  },
  {
   "cell_type": "code",
   "execution_count": 31,
   "metadata": {},
   "outputs": [
    {
     "data": {
      "text/plain": [
       "(4203, 13)"
      ]
     },
     "execution_count": 31,
     "metadata": {},
     "output_type": "execute_result"
    }
   ],
   "source": [
    "train_food_data.shape"
   ]
  },
  {
   "cell_type": "code",
   "execution_count": 32,
   "metadata": {},
   "outputs": [],
   "source": [
    "num_outputs = 16\n",
    "user_NN = tf.keras.models.Sequential([\n",
    "    tf.keras.layers.Dense(units=32, activation='relu'),\n",
    "    tf.keras.layers.Dense(units=num_outputs)\n",
    "])\n",
    "\n",
    "item_NN = tf.keras.models.Sequential([\n",
    "    tf.keras.layers.Dense(units=32, activation='relu'),\n",
    "    tf.keras.layers.Dense(units=num_outputs)\n",
    "])\n",
    "\n",
    "input_user = tf.keras.layers.Input(shape=(9))\n",
    "vu = user_NN(input_user)\n",
    "vu = tf.linalg.l2_normalize(vu, axis=1)\n",
    "\n",
    "input_item = tf.keras.layers.Input(shape=(13))\n",
    "vm = item_NN(input_item)\n",
    "vm = tf.linalg.l2_normalize(vm, axis=1)\n",
    "\n",
    "output = tf.keras.layers.Dot(axes=1)([vu, vm])\n",
    "\n",
    "model = tf.keras.Model([input_user, input_item], output)"
   ]
  },
  {
   "cell_type": "code",
   "execution_count": 33,
   "metadata": {},
   "outputs": [
    {
     "name": "stdout",
     "output_type": "stream",
     "text": [
      "Model: \"model_1\"\n",
      "__________________________________________________________________________________________________\n",
      " Layer (type)                   Output Shape         Param #     Connected to                     \n",
      "==================================================================================================\n",
      " input_3 (InputLayer)           [(None, 9)]          0           []                               \n",
      "                                                                                                  \n",
      " input_4 (InputLayer)           [(None, 13)]         0           []                               \n",
      "                                                                                                  \n",
      " sequential_2 (Sequential)      (None, 16)           848         ['input_3[0][0]']                \n",
      "                                                                                                  \n",
      " sequential_3 (Sequential)      (None, 16)           976         ['input_4[0][0]']                \n",
      "                                                                                                  \n",
      " tf.math.l2_normalize_2 (TFOpLa  (None, 16)          0           ['sequential_2[0][0]']           \n",
      " mbda)                                                                                            \n",
      "                                                                                                  \n",
      " tf.math.l2_normalize_3 (TFOpLa  (None, 16)          0           ['sequential_3[0][0]']           \n",
      " mbda)                                                                                            \n",
      "                                                                                                  \n",
      " dot_1 (Dot)                    (None, 1)            0           ['tf.math.l2_normalize_2[0][0]', \n",
      "                                                                  'tf.math.l2_normalize_3[0][0]'] \n",
      "                                                                                                  \n",
      "==================================================================================================\n",
      "Total params: 1,824\n",
      "Trainable params: 1,824\n",
      "Non-trainable params: 0\n",
      "__________________________________________________________________________________________________\n"
     ]
    }
   ],
   "source": [
    "model.summary()"
   ]
  },
  {
   "cell_type": "code",
   "execution_count": 36,
   "metadata": {},
   "outputs": [],
   "source": [
    "cost_fn = tf.keras.losses.MeanSquaredError()\n",
    "opt = tf.keras.optimizers.Adam()\n",
    "model.compile(optimizer=opt,\n",
    "              loss=cost_fn)"
   ]
  },
  {
   "cell_type": "code",
   "execution_count": 38,
   "metadata": {},
   "outputs": [
    {
     "name": "stdout",
     "output_type": "stream",
     "text": [
      "Epoch 1/30\n",
      "132/132 [==============================] - 1s 6ms/step - loss: 5.9400\n",
      "Epoch 2/30\n",
      "132/132 [==============================] - 1s 5ms/step - loss: 5.9400\n",
      "Epoch 3/30\n",
      "132/132 [==============================] - 1s 5ms/step - loss: 5.9400\n",
      "Epoch 4/30\n",
      "132/132 [==============================] - 1s 5ms/step - loss: 5.9400\n",
      "Epoch 5/30\n",
      "132/132 [==============================] - 1s 5ms/step - loss: 5.9400\n",
      "Epoch 6/30\n",
      "132/132 [==============================] - 1s 6ms/step - loss: 5.9400\n",
      "Epoch 7/30\n",
      "132/132 [==============================] - 1s 5ms/step - loss: 5.9400\n",
      "Epoch 8/30\n",
      "132/132 [==============================] - 1s 5ms/step - loss: 5.9400\n",
      "Epoch 9/30\n",
      "132/132 [==============================] - 1s 6ms/step - loss: 5.9400\n",
      "Epoch 10/30\n",
      "132/132 [==============================] - 1s 6ms/step - loss: 5.9400\n",
      "Epoch 11/30\n",
      "132/132 [==============================] - 1s 6ms/step - loss: 5.9400\n",
      "Epoch 12/30\n",
      "132/132 [==============================] - 1s 6ms/step - loss: 5.9400\n",
      "Epoch 13/30\n",
      "132/132 [==============================] - 1s 5ms/step - loss: 5.9400\n",
      "Epoch 14/30\n",
      "132/132 [==============================] - 1s 5ms/step - loss: 5.9400\n",
      "Epoch 15/30\n",
      "132/132 [==============================] - 1s 6ms/step - loss: 5.9400\n",
      "Epoch 16/30\n",
      "132/132 [==============================] - 1s 5ms/step - loss: 5.9400\n",
      "Epoch 17/30\n",
      "132/132 [==============================] - 1s 7ms/step - loss: 5.9400\n",
      "Epoch 18/30\n",
      "132/132 [==============================] - 1s 7ms/step - loss: 5.9400\n",
      "Epoch 19/30\n",
      "132/132 [==============================] - 1s 5ms/step - loss: 5.9400\n",
      "Epoch 20/30\n",
      "132/132 [==============================] - 1s 6ms/step - loss: 5.9400\n",
      "Epoch 21/30\n",
      "132/132 [==============================] - 1s 6ms/step - loss: 5.9400\n",
      "Epoch 22/30\n",
      "132/132 [==============================] - 1s 5ms/step - loss: 5.9400\n",
      "Epoch 23/30\n",
      "132/132 [==============================] - 1s 5ms/step - loss: 5.9400\n",
      "Epoch 24/30\n",
      "132/132 [==============================] - 1s 5ms/step - loss: 5.9400\n",
      "Epoch 25/30\n",
      "132/132 [==============================] - 1s 5ms/step - loss: 5.9400\n",
      "Epoch 26/30\n",
      "132/132 [==============================] - 1s 5ms/step - loss: 5.9400\n",
      "Epoch 27/30\n",
      "132/132 [==============================] - 1s 5ms/step - loss: 5.9400\n",
      "Epoch 28/30\n",
      "132/132 [==============================] - 1s 6ms/step - loss: 5.9400\n",
      "Epoch 29/30\n",
      "132/132 [==============================] - 1s 6ms/step - loss: 5.9400\n",
      "Epoch 30/30\n",
      "132/132 [==============================] - 1s 5ms/step - loss: 5.9400\n"
     ]
    },
    {
     "data": {
      "text/plain": [
       "<keras.callbacks.History at 0x2935a1b1388>"
      ]
     },
     "execution_count": 38,
     "metadata": {},
     "output_type": "execute_result"
    }
   ],
   "source": [
    "model.fit([train_user_data, train_food_data], rating, epochs=30)"
   ]
  },
  {
   "cell_type": "code",
   "execution_count": null,
   "metadata": {},
   "outputs": [],
   "source": []
  }
 ],
 "metadata": {
  "kernelspec": {
   "display_name": "tf210",
   "language": "python",
   "name": "python3"
  },
  "language_info": {
   "codemirror_mode": {
    "name": "ipython",
    "version": 3
   },
   "file_extension": ".py",
   "mimetype": "text/x-python",
   "name": "python",
   "nbconvert_exporter": "python",
   "pygments_lexer": "ipython3",
   "version": "3.7.16"
  },
  "orig_nbformat": 4
 },
 "nbformat": 4,
 "nbformat_minor": 2
}
