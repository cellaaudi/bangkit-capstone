{
 "cells": [
  {
   "cell_type": "code",
   "execution_count": 1,
   "metadata": {},
   "outputs": [],
   "source": [
    "import firebase_admin\n",
    "from firebase_admin import credentials, firestore\n",
    "import csv\n",
    "\n",
    "cred = credentials.Certificate('onnea-apps-c8771929abfc.json')\n",
    "firebase_admin.initialize_app(cred)\n",
    "db = firestore.client()"
   ]
  },
  {
   "cell_type": "code",
   "execution_count": 2,
   "metadata": {},
   "outputs": [],
   "source": [
    "\n",
    "with open('Data/user_data.csv', 'r') as file:\n",
    "    reader = csv.reader(file, delimiter=';')\n",
    "    headers = next(reader)\n",
    "    for row in reader:\n",
    "        data = {headers[i]: row[i] for i in range(21)} \n",
    "\n",
    "        doc_ref = db.collection('users').document(row[0])\n",
    "        doc_ref.set(data)\n",
    "\n",
    "        ratings_data = {headers[i]: row[i] for i in range(21, len(row))}\n",
    "        ratings_ref = doc_ref.collection('ratings').document('rate')\n",
    "        ratings_ref.set(ratings_data)"
   ]
  },
  {
   "cell_type": "code",
   "execution_count": 3,
   "metadata": {},
   "outputs": [],
   "source": [
    "\n",
    "with open('Data/food_data.csv', 'r') as file:\n",
    "    reader = csv.reader(file, delimiter=';')\n",
    "    headers = next(reader)\n",
    "    for row in reader:\n",
    "        data = {headers[i]: row[i] for i in range(len(headers))}\n",
    "\n",
    "        doc_ref = db.collection(f'food_{row[-3]}').document(row[0])  \n",
    "        doc_ref.set(data)\n"
   ]
  },
  {
   "cell_type": "code",
   "execution_count": 4,
   "metadata": {},
   "outputs": [],
   "source": [
    "firebase_admin.delete_app(firebase_admin.get_app())"
   ]
  },
  {
   "cell_type": "code",
   "execution_count": null,
   "metadata": {},
   "outputs": [],
   "source": []
  }
 ],
 "metadata": {
  "kernelspec": {
   "display_name": "tf210",
   "language": "python",
   "name": "python3"
  },
  "language_info": {
   "codemirror_mode": {
    "name": "ipython",
    "version": 3
   },
   "file_extension": ".py",
   "mimetype": "text/x-python",
   "name": "python",
   "nbconvert_exporter": "python",
   "pygments_lexer": "ipython3",
   "version": "3.7.16"
  },
  "orig_nbformat": 4
 },
 "nbformat": 4,
 "nbformat_minor": 2
}
