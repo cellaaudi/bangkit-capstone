{
 "cells": [
  {
   "cell_type": "code",
   "execution_count": 2,
   "metadata": {},
   "outputs": [],
   "source": [
    "import tensorflow as tf\n",
    "import os\n",
    "import glob\n",
    "from sklearn.model_selection import train_test_split\n",
    "from tensorflow.keras.applications import EfficientNetB1\n",
    "from tensorflow.keras.layers import GlobalAveragePooling2D, Dense, Dropout, Input\n",
    "from tensorflow.keras.models import Model\n",
    "from tensorflow.keras.optimizers import Adam\n",
    "from tensorflow.keras.callbacks import Callback"
   ]
  },
  {
   "cell_type": "code",
   "execution_count": 3,
   "metadata": {},
   "outputs": [],
   "source": [
    "physical_devices = tf.config.list_physical_devices('GPU')\n",
    "if len(physical_devices) == 0:\n",
    "    raise RuntimeError(\"GPU tidak ditemukan.\")"
   ]
  },
  {
   "cell_type": "code",
   "execution_count": 4,
   "metadata": {},
   "outputs": [],
   "source": [
    "IMG_SIZE = 299\n",
    "BATCH_SIZE = 32"
   ]
  },
  {
   "cell_type": "code",
   "execution_count": 5,
   "metadata": {},
   "outputs": [],
   "source": [
    "image_paths = glob.glob('Data/food-101/images/*/*.jpg')\n",
    "labels = [os.path.split(os.path.split(path)[0])[1] for path in image_paths]\n",
    "unique_labels = sorted(set(labels))\n",
    "label_to_index = {label: index for index, label in enumerate(unique_labels)}\n",
    "labels = [label_to_index[label] for label in labels]\n",
    "\n",
    "def load_and_preprocess(path, label):\n",
    "    image = tf.io.read_file(path)\n",
    "    image = tf.image.decode_jpeg(image, channels=3)\n",
    "    image = tf.image.resize(image, [IMG_SIZE, IMG_SIZE])\n",
    "    return image, label\n",
    "\n",
    "train_paths, test_paths, train_labels, test_labels = train_test_split(image_paths, labels, test_size=0.2, random_state=42)\n",
    "train_data = tf.data.Dataset.from_tensor_slices((train_paths, train_labels)).map(load_and_preprocess).batch(BATCH_SIZE)\n",
    "test_data = tf.data.Dataset.from_tensor_slices((test_paths, test_labels)).map(load_and_preprocess).batch(BATCH_SIZE)"
   ]
  },
  {
   "cell_type": "code",
   "execution_count": 6,
   "metadata": {},
   "outputs": [],
   "source": [
    "input = Input(shape=(IMG_SIZE, IMG_SIZE, 3))\n",
    "base_model = EfficientNetB1(include_top=False, weights='imagenet', input_shape=(IMG_SIZE, IMG_SIZE, 3))\n",
    "base_model.trainable = False\n",
    "\n",
    "x = base_model(input)\n",
    "\n",
    "x = GlobalAveragePooling2D()(x)\n",
    "x = Dropout(0.05)(x)\n",
    "\n",
    "predictions = Dense(101, activation='softmax')(x)\n",
    "\n",
    "model = Model(inputs=input, outputs=predictions)\n",
    "\n",
    "model.compile(optimizer=Adam(), loss='sparse_categorical_crossentropy', metrics=['accuracy'])"
   ]
  },
  {
   "cell_type": "code",
   "execution_count": 7,
   "metadata": {},
   "outputs": [
    {
     "name": "stdout",
     "output_type": "stream",
     "text": [
      "Model: \"model\"\n",
      "_________________________________________________________________\n",
      " Layer (type)                Output Shape              Param #   \n",
      "=================================================================\n",
      " input_1 (InputLayer)        [(None, 299, 299, 3)]     0         \n",
      "                                                                 \n",
      " efficientnetb1 (Functional)  (None, 10, 10, 1280)     6575239   \n",
      "                                                                 \n",
      " global_average_pooling2d (G  (None, 1280)             0         \n",
      " lobalAveragePooling2D)                                          \n",
      "                                                                 \n",
      " dropout (Dropout)           (None, 1280)              0         \n",
      "                                                                 \n",
      " dense (Dense)               (None, 101)               129381    \n",
      "                                                                 \n",
      "=================================================================\n",
      "Total params: 6,704,620\n",
      "Trainable params: 129,381\n",
      "Non-trainable params: 6,575,239\n",
      "_________________________________________________________________\n"
     ]
    }
   ],
   "source": [
    "model.summary()"
   ]
  },
  {
   "cell_type": "code",
   "execution_count": 8,
   "metadata": {},
   "outputs": [
    {
     "name": "stdout",
     "output_type": "stream",
     "text": [
      "Epoch 1/4\n",
      "2525/2525 [==============================] - 734s 275ms/step - loss: 1.6389 - accuracy: 0.5969 - val_loss: 1.2264 - val_accuracy: 0.6834\n",
      "Epoch 2/4\n",
      "2525/2525 [==============================] - 689s 273ms/step - loss: 1.1579 - accuracy: 0.6953 - val_loss: 1.1322 - val_accuracy: 0.7048\n",
      "Epoch 3/4\n",
      "2525/2525 [==============================] - 690s 273ms/step - loss: 1.0391 - accuracy: 0.7226 - val_loss: 1.0940 - val_accuracy: 0.7147\n",
      "Epoch 4/4\n",
      "2525/2525 [==============================] - 689s 273ms/step - loss: 0.9652 - accuracy: 0.7397 - val_loss: 1.0783 - val_accuracy: 0.7188\n"
     ]
    }
   ],
   "source": [
    "history = model.fit(train_data, epochs=4, validation_data=test_data)"
   ]
  },
  {
   "cell_type": "code",
   "execution_count": 9,
   "metadata": {},
   "outputs": [],
   "source": [
    "base_model.trainable = True\n",
    "for layer in base_model.layers[:-20]:\n",
    "    layer.trainable = False\n",
    "\n",
    "model.compile(optimizer=Adam(), loss='sparse_categorical_crossentropy', metrics=['accuracy'])\n",
    "\n",
    "class MyCallback(Callback):\n",
    "    def on_epoch_end(self, epoch, logs=None):\n",
    "        if logs is None:\n",
    "            logs = {}\n",
    "        if logs.get('val_accuracy') > 0.80:\n",
    "            print(\"\\nAkurasi telah mencapai 80%, menghentikan pelatihan.\")\n",
    "            self.model.stop_training = True\n",
    "\n",
    "callback = MyCallback()"
   ]
  },
  {
   "cell_type": "code",
   "execution_count": 10,
   "metadata": {},
   "outputs": [
    {
     "name": "stdout",
     "output_type": "stream",
     "text": [
      "Model: \"model\"\n",
      "_________________________________________________________________\n",
      " Layer (type)                Output Shape              Param #   \n",
      "=================================================================\n",
      " input_1 (InputLayer)        [(None, 299, 299, 3)]     0         \n",
      "                                                                 \n",
      " efficientnetb1 (Functional)  (None, 10, 10, 1280)     6575239   \n",
      "                                                                 \n",
      " global_average_pooling2d (G  (None, 1280)             0         \n",
      " lobalAveragePooling2D)                                          \n",
      "                                                                 \n",
      " dropout (Dropout)           (None, 1280)              0         \n",
      "                                                                 \n",
      " dense (Dense)               (None, 101)               129381    \n",
      "                                                                 \n",
      "=================================================================\n",
      "Total params: 6,704,620\n",
      "Trainable params: 2,474,421\n",
      "Non-trainable params: 4,230,199\n",
      "_________________________________________________________________\n"
     ]
    }
   ],
   "source": [
    "model.summary()"
   ]
  },
  {
   "cell_type": "code",
   "execution_count": 12,
   "metadata": {},
   "outputs": [
    {
     "name": "stdout",
     "output_type": "stream",
     "text": [
      "2525/2525 [==============================] - 756s 299ms/step - loss: 0.4493 - accuracy: 0.8714 - val_loss: 1.0418 - val_accuracy: 0.7508\n"
     ]
    }
   ],
   "source": [
    "history = model.fit(train_data, epochs=1, validation_data=test_data, callbacks=callback)"
   ]
  },
  {
   "cell_type": "code",
   "execution_count": 14,
   "metadata": {},
   "outputs": [],
   "source": [
    "model.save_weights(\"model.h5\")"
   ]
  }
 ],
 "metadata": {
  "kernelspec": {
   "display_name": "tf210",
   "language": "python",
   "name": "python3"
  },
  "language_info": {
   "codemirror_mode": {
    "name": "ipython",
    "version": 3
   },
   "file_extension": ".py",
   "mimetype": "text/x-python",
   "name": "python",
   "nbconvert_exporter": "python",
   "pygments_lexer": "ipython3",
   "version": "3.7.16"
  },
  "orig_nbformat": 4
 },
 "nbformat": 4,
 "nbformat_minor": 2
}
